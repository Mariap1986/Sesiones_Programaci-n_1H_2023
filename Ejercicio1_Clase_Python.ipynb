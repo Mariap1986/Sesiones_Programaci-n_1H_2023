{
  "nbformat": 4,
  "nbformat_minor": 0,
  "metadata": {
    "colab": {
      "provenance": []
    },
    "kernelspec": {
      "name": "python3",
      "display_name": "Python 3"
    },
    "language_info": {
      "name": "python"
    }
  },
  "cells": [
    {
      "cell_type": "code",
      "source": [
        "NumeroIdentificacion = 1020718231\n",
        "print (NumeroIdentificacion)"
      ],
      "metadata": {
        "colab": {
          "base_uri": "https://localhost:8080/"
        },
        "id": "8ktqJiO98gH2",
        "outputId": "6d6750a9-e1f8-4332-a3e8-72106d4eb1ba"
      },
      "execution_count": null,
      "outputs": [
        {
          "output_type": "stream",
          "name": "stdout",
          "text": [
            "1020718231\n"
          ]
        }
      ]
    },
    {
      "cell_type": "code",
      "source": [
        "nombre =\"Maria del Pilar\"\n",
        "apellido = \"Paez Prieto\"\n",
        "print (nombre + \" \" + apellido)\n"
      ],
      "metadata": {
        "colab": {
          "base_uri": "https://localhost:8080/"
        },
        "id": "pJVtxzDa86Pg",
        "outputId": "05f17a02-fc13-4ee0-c6a1-9ad903ea5703"
      },
      "execution_count": null,
      "outputs": [
        {
          "output_type": "stream",
          "name": "stdout",
          "text": [
            "Maria del Pilar Paez Prieto\n"
          ]
        }
      ]
    },
    {
      "cell_type": "code",
      "source": [
        "Direccion = \"calle 147 No. 8-32\"\n",
        "print(Direccion)"
      ],
      "metadata": {
        "colab": {
          "base_uri": "https://localhost:8080/"
        },
        "id": "gUYV6p9898sp",
        "outputId": "965209ab-062c-4377-fa05-ba0581917b08"
      },
      "execution_count": null,
      "outputs": [
        {
          "output_type": "stream",
          "name": "stdout",
          "text": [
            "calle 147 No. 8-32\n"
          ]
        }
      ]
    },
    {
      "cell_type": "code",
      "source": [
        "Estadocivil = \"casado\"\n",
        "print (Estadocivil)"
      ],
      "metadata": {
        "colab": {
          "base_uri": "https://localhost:8080/"
        },
        "id": "ksnpEXfs_dbA",
        "outputId": "e743be7a-e8e7-4b13-cb4d-a026d08f2d9a"
      },
      "execution_count": null,
      "outputs": [
        {
          "output_type": "stream",
          "name": "stdout",
          "text": [
            "casado\n"
          ]
        }
      ]
    },
    {
      "cell_type": "code",
      "source": [
        "telefono = 323573837\n",
        "print (telefono)"
      ],
      "metadata": {
        "id": "fZfwBa0--OEw",
        "colab": {
          "base_uri": "https://localhost:8080/"
        },
        "outputId": "08895501-c8d6-4120-a6e9-f0f8d2a4bcf8"
      },
      "execution_count": null,
      "outputs": [
        {
          "output_type": "stream",
          "name": "stdout",
          "text": [
            "323573837\n"
          ]
        }
      ]
    },
    {
      "cell_type": "code",
      "source": [
        "Numerodehijos = 3\n",
        "print (Numerodehijos)"
      ],
      "metadata": {
        "id": "yYMhpHsM_80s",
        "colab": {
          "base_uri": "https://localhost:8080/"
        },
        "outputId": "6e4ea7f7-f013-4973-f1c9-330cc2d62206"
      },
      "execution_count": null,
      "outputs": [
        {
          "output_type": "stream",
          "name": "stdout",
          "text": [
            "3\n"
          ]
        }
      ]
    },
    {
      "cell_type": "code",
      "source": [
        "edad = 30  \n",
        "print (edad)"
      ],
      "metadata": {
        "id": "NofTk70yAFC7",
        "colab": {
          "base_uri": "https://localhost:8080/"
        },
        "outputId": "274a0832-7ddf-498d-838c-38adfb5f0e71"
      },
      "execution_count": null,
      "outputs": [
        {
          "output_type": "stream",
          "name": "stdout",
          "text": [
            "30\n"
          ]
        }
      ]
    },
    {
      "cell_type": "code",
      "source": [
        "estatura = 1.72\n",
        "print(estatura)"
      ],
      "metadata": {
        "id": "SwQH6ZBpAKTF",
        "colab": {
          "base_uri": "https://localhost:8080/"
        },
        "outputId": "d56761b5-e62f-4889-dbff-e3725a32bb66"
      },
      "execution_count": null,
      "outputs": [
        {
          "output_type": "stream",
          "name": "stdout",
          "text": [
            "1.72\n"
          ]
        }
      ]
    },
    {
      "cell_type": "code",
      "source": [
        "fechadecontratacion = \"15/05/2023\"\n",
        "print (fechadecontratacion)"
      ],
      "metadata": {
        "id": "ssk5hTt6AKFU",
        "colab": {
          "base_uri": "https://localhost:8080/"
        },
        "outputId": "da229afc-895d-4363-d5d5-6efbcea1196c"
      },
      "execution_count": null,
      "outputs": [
        {
          "output_type": "stream",
          "name": "stdout",
          "text": [
            "15/05/2023\n"
          ]
        }
      ]
    },
    {
      "cell_type": "code",
      "source": [
        "sueldobasico =5000000\n",
        "print (sueldobasico)"
      ],
      "metadata": {
        "id": "kydW04I5AUVW",
        "colab": {
          "base_uri": "https://localhost:8080/"
        },
        "outputId": "25b035ac-1496-4a79-98a1-7b0d66b1634a"
      },
      "execution_count": null,
      "outputs": [
        {
          "output_type": "stream",
          "name": "stdout",
          "text": [
            "5000000\n"
          ]
        }
      ]
    },
    {
      "cell_type": "code",
      "source": [
        "diaslaborados = (28)\n",
        "print (diaslaborados)"
      ],
      "metadata": {
        "id": "zlEn88hDAVRJ",
        "colab": {
          "base_uri": "https://localhost:8080/"
        },
        "outputId": "8e06341c-73a4-4f70-ae35-a660e37e6057"
      },
      "execution_count": null,
      "outputs": [
        {
          "output_type": "stream",
          "name": "stdout",
          "text": [
            "28\n"
          ]
        }
      ]
    },
    {
      "cell_type": "markdown",
      "source": [],
      "metadata": {
        "id": "OzxqOSMmAQ4R"
      }
    },
    {
      "cell_type": "code",
      "source": [
        "diaslaborados=input"
      ],
      "metadata": {
        "id": "-ctaNqGt0F-c"
      },
      "execution_count": null,
      "outputs": []
    },
    {
      "cell_type": "markdown",
      "source": [
        "OPERADORES MATEMÁTICOS PYTON"
      ],
      "metadata": {
        "id": "LHHNX7l20k9F"
      }
    },
    {
      "cell_type": "code",
      "source": [
        "num1= 9\n",
        "num2= 10\n",
        "res=(num1+num2)\n",
        "print(res)\n"
      ],
      "metadata": {
        "colab": {
          "base_uri": "https://localhost:8080/"
        },
        "id": "J6I9CPeW0qWF",
        "outputId": "02fdb319-495c-4919-b792-fa09162b1494"
      },
      "execution_count": null,
      "outputs": [
        {
          "output_type": "stream",
          "name": "stdout",
          "text": [
            "19\n"
          ]
        }
      ]
    },
    {
      "cell_type": "code",
      "source": [
        "#para datos float (input)\n",
        "#parada datos numericos int\n",
        "corchetes es para\n"
      ],
      "metadata": {
        "id": "X8V6nTRl2JwF"
      },
      "execution_count": null,
      "outputs": []
    }
  ]
}