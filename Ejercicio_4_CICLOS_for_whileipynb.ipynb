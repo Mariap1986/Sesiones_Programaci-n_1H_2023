{
  "nbformat": 4,
  "nbformat_minor": 0,
  "metadata": {
    "colab": {
      "provenance": []
    },
    "kernelspec": {
      "name": "python3",
      "display_name": "Python 3"
    },
    "language_info": {
      "name": "python"
    }
  },
  "cells": [
    {
      "cell_type": "markdown",
      "source": [
        "***Ciclo FOR***\n",
        "Sirve para repetir un número determinado de instrucciones\n",
        "listas, conjunto, diccionarios\n",
        "i: Iteración pero funciona cualquier letra. \n",
        "N=100\n",
        "Syntaxis: for (cualquier letra) in (1,2,3,4):\n"
      ],
      "metadata": {
        "id": "KCKixUWD5giS"
      }
    },
    {
      "cell_type": "code",
      "source": [
        "for e in (1,2,3,4):\n",
        "  print(e)"
      ],
      "metadata": {
        "colab": {
          "base_uri": "https://localhost:8080/"
        },
        "id": "9MMC6oId7CZT",
        "outputId": "a9060708-626e-4f36-8670-f0092835ad16"
      },
      "execution_count": null,
      "outputs": [
        {
          "output_type": "stream",
          "name": "stdout",
          "text": [
            "1\n",
            "2\n",
            "3\n",
            "4\n"
          ]
        }
      ]
    },
    {
      "cell_type": "code",
      "execution_count": null,
      "metadata": {
        "colab": {
          "base_uri": "https://localhost:8080/"
        },
        "id": "XlyZKPiR5B-t",
        "outputId": "ae6353db-be07-4571-ef95-23239ed9ba2c"
      },
      "outputs": [
        {
          "output_type": "stream",
          "name": "stdout",
          "text": [
            "a\n",
            "b\n",
            "c\n",
            "d\n"
          ]
        }
      ],
      "source": [
        "for y in \"abcd\":\n",
        "  print(y)\n"
      ]
    },
    {
      "cell_type": "code",
      "source": [
        "for r in \"Maria\":\n",
        "  print(r)\n"
      ],
      "metadata": {
        "colab": {
          "base_uri": "https://localhost:8080/"
        },
        "id": "ADzb3Csz7xly",
        "outputId": "b7e58e94-c37f-4b20-b630-791a54b9d114"
      },
      "execution_count": null,
      "outputs": [
        {
          "output_type": "stream",
          "name": "stdout",
          "text": [
            "M\n",
            "a\n",
            "r\n",
            "i\n",
            "a\n"
          ]
        }
      ]
    },
    {
      "cell_type": "markdown",
      "source": [
        "Range tiene en cuenta posiciones for e in range() siempre inicio en 0 en adelante. \n",
        "start, stop, step"
      ],
      "metadata": {
        "id": "_nWADCnc8aRq"
      }
    },
    {
      "cell_type": "code",
      "source": [
        "for t in range (11):\n",
        " print(t)\n"
      ],
      "metadata": {
        "colab": {
          "base_uri": "https://localhost:8080/"
        },
        "id": "RDe-DzEQ8nKR",
        "outputId": "3a5e9be4-ecb4-43d9-e8e4-59778f95bcec"
      },
      "execution_count": null,
      "outputs": [
        {
          "output_type": "stream",
          "name": "stdout",
          "text": [
            "0\n",
            "1\n",
            "2\n",
            "3\n",
            "4\n",
            "5\n",
            "6\n",
            "7\n",
            "8\n",
            "9\n",
            "10\n"
          ]
        }
      ]
    },
    {
      "cell_type": "code",
      "source": [
        "for y in range (2,11,2):\n",
        " print(y)\n"
      ],
      "metadata": {
        "colab": {
          "base_uri": "https://localhost:8080/"
        },
        "id": "oLVlx9OG9eHA",
        "outputId": "d26b3ff0-90e0-4d8e-a9d8-9c2e6432fc58"
      },
      "execution_count": null,
      "outputs": [
        {
          "output_type": "stream",
          "name": "stdout",
          "text": [
            "2\n",
            "4\n",
            "6\n",
            "8\n",
            "10\n"
          ]
        }
      ]
    },
    {
      "cell_type": "markdown",
      "source": [
        "1. Se necesita un sistema que despliega una tabla de\n",
        "multiplicar de un número dado por el usuario. ciclo for"
      ],
      "metadata": {
        "id": "OS79YkqC-k9J"
      }
    },
    {
      "cell_type": "code",
      "source": [
        "Num= int(input(\"digite un numero:\"))\n",
        "for w in range (11):\n",
        " print(w*Num)\n",
        "  "
      ],
      "metadata": {
        "colab": {
          "base_uri": "https://localhost:8080/"
        },
        "id": "W9amlpw8Dw6M",
        "outputId": "b8c94007-d081-4030-fdf3-aac7f21455e3"
      },
      "execution_count": null,
      "outputs": [
        {
          "output_type": "stream",
          "name": "stdout",
          "text": [
            "digite un numero:3\n",
            "0\n",
            "3\n",
            "6\n",
            "9\n",
            "12\n",
            "15\n",
            "18\n",
            "21\n",
            "24\n",
            "27\n",
            "30\n"
          ]
        }
      ]
    },
    {
      "cell_type": "markdown",
      "source": [
        "Haz una tabla de multiplicar utilizando el ciclo for\n",
        "ciclo for"
      ],
      "metadata": {
        "id": "s3m02u0dDj-9"
      }
    },
    {
      "cell_type": "code",
      "source": [
        "num = int(input(\"Digite el número de la tabla de multiplicar: \"))\n",
        "\n",
        "for t in range(11):\n",
        "  print(t, \" x \", num , \" = \", num * t)\n",
        "  "
      ],
      "metadata": {
        "colab": {
          "base_uri": "https://localhost:8080/"
        },
        "id": "sdiEYO-p-nHb",
        "outputId": "773b6198-8fcd-4cd6-da86-e5d36c8977df"
      },
      "execution_count": null,
      "outputs": [
        {
          "output_type": "stream",
          "name": "stdout",
          "text": [
            "Digite el número de la tabla de multiplicar: 5\n",
            "0  x  5  =  0\n",
            "1  x  5  =  5\n",
            "2  x  5  =  10\n",
            "3  x  5  =  15\n",
            "4  x  5  =  20\n",
            "5  x  5  =  25\n",
            "6  x  5  =  30\n",
            "7  x  5  =  35\n",
            "8  x  5  =  40\n",
            "9  x  5  =  45\n",
            "10  x  5  =  50\n"
          ]
        }
      ]
    },
    {
      "cell_type": "markdown",
      "source": [
        "2.Crear un bucle que cuente todos los números pares hasta\n",
        "el 100 ciclo for"
      ],
      "metadata": {
        "id": "qJPQQ_DbBnsk"
      }
    },
    {
      "cell_type": "code",
      "source": [
        "num = int(input(\"digite un numero:\"))\n",
        "for p in range(2,101,2 ):\n",
        " print (p)\n"
      ],
      "metadata": {
        "colab": {
          "base_uri": "https://localhost:8080/"
        },
        "id": "JQTKUApPBnQ0",
        "outputId": "7bbb5b93-be3e-443c-da86-82e88aa55dea"
      },
      "execution_count": null,
      "outputs": [
        {
          "output_type": "stream",
          "name": "stdout",
          "text": [
            "digite un numero:2\n",
            "2\n",
            "4\n",
            "6\n",
            "8\n",
            "10\n",
            "12\n",
            "14\n",
            "16\n",
            "18\n",
            "20\n",
            "22\n",
            "24\n",
            "26\n",
            "28\n",
            "30\n",
            "32\n",
            "34\n",
            "36\n",
            "38\n",
            "40\n",
            "42\n",
            "44\n",
            "46\n",
            "48\n",
            "50\n",
            "52\n",
            "54\n",
            "56\n",
            "58\n",
            "60\n",
            "62\n",
            "64\n",
            "66\n",
            "68\n",
            "70\n",
            "72\n",
            "74\n",
            "76\n",
            "78\n",
            "80\n",
            "82\n",
            "84\n",
            "86\n",
            "88\n",
            "90\n",
            "92\n",
            "94\n",
            "96\n",
            "98\n",
            "100\n"
          ]
        }
      ]
    },
    {
      "cell_type": "markdown",
      "source": [],
      "metadata": {
        "id": "s5GpVrlMDKCN"
      }
    },
    {
      "cell_type": "code",
      "source": [],
      "metadata": {
        "id": "aI89eKSiDJ1l"
      },
      "execution_count": null,
      "outputs": []
    },
    {
      "cell_type": "markdown",
      "source": [
        "6.Escribir un programa que pregunte al usuario su edad y\n",
        "muestre por pantalla todos los años que ha cumplido\n",
        "(desde 1 hasta su edad). ciclo for"
      ],
      "metadata": {
        "id": "TwQ24rrQFFOd"
      }
    },
    {
      "cell_type": "code",
      "source": [
        "Edad = int(input(\"escriba su edad:\"))\n",
        "for s in range(1,Edad,1):\n",
        " print(s)\n",
        "\n"
      ],
      "metadata": {
        "colab": {
          "base_uri": "https://localhost:8080/"
        },
        "id": "OjpFVfdpFIgu",
        "outputId": "f1f0b8a0-0741-4674-a4a9-43de0c078220"
      },
      "execution_count": null,
      "outputs": [
        {
          "output_type": "stream",
          "name": "stdout",
          "text": [
            "escriba su edad:15\n",
            "1\n",
            "2\n",
            "3\n",
            "4\n",
            "5\n",
            "6\n",
            "7\n",
            "8\n",
            "9\n",
            "10\n",
            "11\n",
            "12\n",
            "13\n",
            "14\n"
          ]
        }
      ]
    },
    {
      "cell_type": "markdown",
      "source": [
        "***CICLO WHILE ***REPITE UN BLOQUE DE INSTRUCCIONES DE FORMA CONTINUA\n",
        "WHILE CONDICION:\n",
        "   BLOQUE DE CODIGO"
      ],
      "metadata": {
        "id": "krJuw0epzDzD"
      }
    },
    {
      "cell_type": "markdown",
      "source": [
        "2.Se necesita un sistema que pida un sueldo de un\n",
        "trabajador, si el sueldo es mayor a 655000, no tendrá\n",
        "ninguna bonificación, pero si es menor tiene bonificación\n",
        "del 4%. Al final se desea saber el total del sueldo con\n",
        "o sin bonificación. Preguntar si desea ejecutar de nuevo\n",
        "el programa con el ciclo while.\n"
      ],
      "metadata": {
        "id": "vWe8RbZ7FwuU"
      }
    },
    {
      "cell_type": "code",
      "source": [
        "resp = \"si\"\n",
        "while resp == \"si\":\n",
        "  Sueldo = int(input(\"Digite su sueldo actual\"))\n",
        "  if Sueldo >= 655000:\n",
        "    print(\"No tiene derecho a bonificación\")\n",
        "  if Sueldo < 655000:\n",
        "      print(\"Tiene derecho a bonificación del 4%\")\n",
        "  Bon = Sueldo > 655000 * 4 /100\n",
        " res = input(\"desea ejecutar el programa nuevamente?\")\n",
        " else:\n",
        "   "
      ],
      "metadata": {
        "id": "7O1C8AbTwra7",
        "colab": {
          "base_uri": "https://localhost:8080/",
          "height": 485
        },
        "outputId": "3e1c1d18-fe41-422e-ecf0-d97930064723"
      },
      "execution_count": null,
      "outputs": [
        {
          "output_type": "stream",
          "name": "stdout",
          "text": [
            "Digite su sueldo actual500000\n",
            "Tiene derecho a bonificación del 4%\n",
            "Digite su sueldo actual500000\n",
            "Tiene derecho a bonificación del 4%\n",
            "Digite su sueldo actual400000\n",
            "Tiene derecho a bonificación del 4%\n"
          ]
        },
        {
          "output_type": "error",
          "ename": "KeyboardInterrupt",
          "evalue": "ignored",
          "traceback": [
            "\u001b[0;31m---------------------------------------------------------------------------\u001b[0m",
            "\u001b[0;31mKeyboardInterrupt\u001b[0m                         Traceback (most recent call last)",
            "\u001b[0;32m<ipython-input-9-a1c44bab09ac>\u001b[0m in \u001b[0;36m<cell line: 2>\u001b[0;34m()\u001b[0m\n\u001b[1;32m      1\u001b[0m \u001b[0mresp\u001b[0m \u001b[0;34m=\u001b[0m \u001b[0;34m\"si\"\u001b[0m\u001b[0;34m\u001b[0m\u001b[0;34m\u001b[0m\u001b[0m\n\u001b[1;32m      2\u001b[0m \u001b[0;32mwhile\u001b[0m \u001b[0mresp\u001b[0m \u001b[0;34m==\u001b[0m \u001b[0;34m\"si\"\u001b[0m\u001b[0;34m:\u001b[0m\u001b[0;34m\u001b[0m\u001b[0;34m\u001b[0m\u001b[0m\n\u001b[0;32m----> 3\u001b[0;31m   \u001b[0mSueldo\u001b[0m \u001b[0;34m=\u001b[0m \u001b[0mint\u001b[0m\u001b[0;34m(\u001b[0m\u001b[0minput\u001b[0m\u001b[0;34m(\u001b[0m\u001b[0;34m\"Digite su sueldo actual\"\u001b[0m\u001b[0;34m)\u001b[0m\u001b[0;34m)\u001b[0m\u001b[0;34m\u001b[0m\u001b[0;34m\u001b[0m\u001b[0m\n\u001b[0m\u001b[1;32m      4\u001b[0m   \u001b[0;32mif\u001b[0m \u001b[0mSueldo\u001b[0m \u001b[0;34m>=\u001b[0m \u001b[0;36m655000\u001b[0m\u001b[0;34m:\u001b[0m\u001b[0;34m\u001b[0m\u001b[0;34m\u001b[0m\u001b[0m\n\u001b[1;32m      5\u001b[0m     \u001b[0mprint\u001b[0m\u001b[0;34m(\u001b[0m\u001b[0;34m\"No tiene derecho a bonificación\"\u001b[0m\u001b[0;34m)\u001b[0m\u001b[0;34m\u001b[0m\u001b[0;34m\u001b[0m\u001b[0m\n",
            "\u001b[0;32m/usr/local/lib/python3.9/dist-packages/ipykernel/kernelbase.py\u001b[0m in \u001b[0;36mraw_input\u001b[0;34m(self, prompt)\u001b[0m\n\u001b[1;32m    849\u001b[0m                 \u001b[0;34m\"raw_input was called, but this frontend does not support input requests.\"\u001b[0m\u001b[0;34m\u001b[0m\u001b[0;34m\u001b[0m\u001b[0m\n\u001b[1;32m    850\u001b[0m             )\n\u001b[0;32m--> 851\u001b[0;31m         return self._input_request(str(prompt),\n\u001b[0m\u001b[1;32m    852\u001b[0m             \u001b[0mself\u001b[0m\u001b[0;34m.\u001b[0m\u001b[0m_parent_ident\u001b[0m\u001b[0;34m,\u001b[0m\u001b[0;34m\u001b[0m\u001b[0;34m\u001b[0m\u001b[0m\n\u001b[1;32m    853\u001b[0m             \u001b[0mself\u001b[0m\u001b[0;34m.\u001b[0m\u001b[0m_parent_header\u001b[0m\u001b[0;34m,\u001b[0m\u001b[0;34m\u001b[0m\u001b[0;34m\u001b[0m\u001b[0m\n",
            "\u001b[0;32m/usr/local/lib/python3.9/dist-packages/ipykernel/kernelbase.py\u001b[0m in \u001b[0;36m_input_request\u001b[0;34m(self, prompt, ident, parent, password)\u001b[0m\n\u001b[1;32m    893\u001b[0m             \u001b[0;32mexcept\u001b[0m \u001b[0mKeyboardInterrupt\u001b[0m\u001b[0;34m:\u001b[0m\u001b[0;34m\u001b[0m\u001b[0;34m\u001b[0m\u001b[0m\n\u001b[1;32m    894\u001b[0m                 \u001b[0;31m# re-raise KeyboardInterrupt, to truncate traceback\u001b[0m\u001b[0;34m\u001b[0m\u001b[0;34m\u001b[0m\u001b[0m\n\u001b[0;32m--> 895\u001b[0;31m                 \u001b[0;32mraise\u001b[0m \u001b[0mKeyboardInterrupt\u001b[0m\u001b[0;34m(\u001b[0m\u001b[0;34m\"Interrupted by user\"\u001b[0m\u001b[0;34m)\u001b[0m \u001b[0;32mfrom\u001b[0m \u001b[0;32mNone\u001b[0m\u001b[0;34m\u001b[0m\u001b[0;34m\u001b[0m\u001b[0m\n\u001b[0m\u001b[1;32m    896\u001b[0m             \u001b[0;32mexcept\u001b[0m \u001b[0mException\u001b[0m \u001b[0;32mas\u001b[0m \u001b[0me\u001b[0m\u001b[0;34m:\u001b[0m\u001b[0;34m\u001b[0m\u001b[0;34m\u001b[0m\u001b[0m\n\u001b[1;32m    897\u001b[0m                 \u001b[0mself\u001b[0m\u001b[0;34m.\u001b[0m\u001b[0mlog\u001b[0m\u001b[0;34m.\u001b[0m\u001b[0mwarning\u001b[0m\u001b[0;34m(\u001b[0m\u001b[0;34m\"Invalid Message:\"\u001b[0m\u001b[0;34m,\u001b[0m \u001b[0mexc_info\u001b[0m\u001b[0;34m=\u001b[0m\u001b[0;32mTrue\u001b[0m\u001b[0;34m)\u001b[0m\u001b[0;34m\u001b[0m\u001b[0;34m\u001b[0m\u001b[0m\n",
            "\u001b[0;31mKeyboardInterrupt\u001b[0m: Interrupted by user"
          ]
        }
      ]
    },
    {
      "cell_type": "code",
      "source": [
        "resp = \"si\"\n",
        "while resp == \"si\":\n",
        "  cal1 = float(input(\"Digite la calificaicón 1: \"))\n",
        "  cal2 = float(input(\"Digite la calificaicón 2: \"))\n",
        "  cal3 = float(input(\"Digite la calificaicón 3: \"))\n",
        "  cal4 = float(input(\"Digite la calificaicón 4: \"))\n",
        "  cal5 = float(input(\"Digite la calificaicón 5: \"))\n",
        "  prom = round((cal1 + cal2 + cal3 + cal4 + cal5)/5, 2)\n",
        "\n",
        "  if prom >= 3.0:\n",
        "    estado = \"APROBADO\"\n",
        "  else:\n",
        "    estado = \"Reprobado\"\n",
        "  print(f\"El promedio es= {prom} y el estado es= {estado}\")\n",
        "  resp = input(\"¿Desea cálcular otras 3 calificaciones? \").lower()"
      ],
      "metadata": {
        "id": "lR5FW1FRWgqy"
      },
      "execution_count": null,
      "outputs": []
    },
    {
      "cell_type": "markdown",
      "source": [
        "3. Un maestro necesita un sistema para capturar las\n",
        "calificaciones de 5 parciales de sus alumnos, después\n",
        "recapturarlas necesita que se despliegue el promedio,\n",
        "cuando ya no quiera capturar más alumnos, necesita que\n",
        "se despliegue el promedio general de todos los alumnos\n",
        "capturados. Preguntar si desea ejecutar de nuevo el\n",
        "programa con el ciclo while."
      ],
      "metadata": {
        "id": "-I0Z8SMqF04n"
      }
    },
    {
      "cell_type": "code",
      "source": [
        "def sueldo(suel):\n",
        "  if sueldo >= 4000000:\n",
        "    print(\"Está dentro del promedio de estrato medio en Colombia\")\n",
        "  else:\n",
        "    print(\"No está dentro del promedio de estrato medio en Colombia\")\n",
        "resp = \"si\"\n",
        "while resp == \"si\":\n",
        "  sueldo = int(input(\"Digite su sueldo: \"))\n",
        "  validarsueldo(sueldo)\n",
        "  resp = input(\"¿Desea digitar otro sueldo?\")"
      ],
      "metadata": {
        "id": "9FQDabKQMivs"
      },
      "execution_count": null,
      "outputs": []
    }
  ]
}