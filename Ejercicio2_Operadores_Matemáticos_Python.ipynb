{
  "nbformat": 4,
  "nbformat_minor": 0,
  "metadata": {
    "colab": {
      "provenance": []
    },
    "kernelspec": {
      "name": "python3",
      "display_name": "Python 3"
    },
    "language_info": {
      "name": "python"
    }
  },
  "cells": [
    {
      "cell_type": "code",
      "execution_count": null,
      "metadata": {
        "colab": {
          "base_uri": "https://localhost:8080/"
        },
        "id": "V0dkEMLx9tgb",
        "outputId": "29b0a694-1877-4e9a-cf91-43925259acf3"
      },
      "outputs": [
        {
          "output_type": "stream",
          "name": "stdout",
          "text": [
            "¿Cuánto es el sueldo basico?: 3000000\n",
            "¿cuál fue el valor de la venta 1?: 4500000\n",
            "¿cuál fue el valor de la venta 2?: 5000000\n",
            "¿cuál fue el valor de la venta 3?: 2500000\n",
            "\n",
            "El resultado de las ventas es= 12000000.0\n",
            "La Com es= $1,200,000 y el total a pagar es = $4,200,000\n"
          ]
        }
      ],
      "source": [
        "#Conocer sueldo básico\n",
        "Base = float(input(\"¿Cuánto es el sueldo basico?: \"))\n",
        "#Ventas en el mes\n",
        "Vent1 = float(input(\"¿cuál fue el valor de la venta 1?: \"))\n",
        "Vent2 = float(input(\"¿cuál fue el valor de la venta 2?: \"))\n",
        "Vent3 = float(input(\"¿cuál fue el valor de la venta 3?: \"))\n",
        "#Total venta\n",
        "Total = Vent1 + Vent2 + Vent3\n",
        "print(\"\\nEl resultado de las ventas es= {}\".format(Total))\n",
        "#cálculo del 10% de comisión\n",
        "Com = Total * 0.10\n",
        "#Visualiza por pantalla el total a pagar \n",
        "print(\"La Com es= ${:,.0f} y el total a pagar es = ${:,.0f}\".format(Com, Base + Com )) "
      ]
    },
    {
      "cell_type": "code",
      "source": [
        "# variable para calcular valor de la compra\n",
        "Total_compra = float(input(\"¿Cuánto fue el total de la compra?: \"))\n",
        "# Cálculo del dcto del 15%\n",
        "Dcto = Total_compra * 0.15\n",
        "# Cálculo del total a pagar\n",
        "total = Total_compra- Dcto\n",
        "# Visualiza por pantalla el total a pagar\n",
        "print(\"El Dcto es= ${:,.0f} y el total a pagar es = ${:,.0f}\".format(Dcto, total))"
      ],
      "metadata": {
        "colab": {
          "base_uri": "https://localhost:8080/"
        },
        "id": "cOicmpyHwGd-",
        "outputId": "c893632d-deb6-47ce-83d2-64451361ef93"
      },
      "execution_count": null,
      "outputs": [
        {
          "output_type": "stream",
          "name": "stdout",
          "text": [
            "¿Cuánto fue el total de la compra?: 350000\n",
            "El Dcto es= $52,500 y el total a pagar es = $297,500\n"
          ]
        }
      ]
    },
    {
      "cell_type": "code",
      "source": [
        "#Total estudiantes mujeres  \n",
        "Total_fem = float(input(\"¿Cuántas mujeres hay en el grupo?: \"))\n",
        "#Total estudiantes hombres\n",
        "Total_mas = float(input(\"¿Cuántos hombres hay en el grupo?: \"))\n",
        "Total_estudiantes = Total_fem + Total_mas\n",
        "print(\"La suma entre {} y {}  es = {}\".format(Total_mas, Total_fem, Total_estudiantes))\n",
        "#Porcentaje Mujeres\n",
        "Mujeres = round((Total_fem / Total_estudiantes) * 100 ,2)\n",
        "#Porcentaje Hombres (round es para delimitar los decimales y el último número son los decimales que decidimos poner)\n",
        "Hombres = round((Total_mas / Total_estudiantes) * 100 ,2) \n",
        "print(\"El porcentaje de mujeres es= {} y el porcentaje de hombres es= {}total de estudiantes= {}\".format(Mujeres, Hombres , Total_estudiantes))"
      ],
      "metadata": {
        "colab": {
          "base_uri": "https://localhost:8080/"
        },
        "id": "23CTgrQaGJ7g",
        "outputId": "d1f1e799-3ae7-45fc-8890-756b8ccce02b"
      },
      "execution_count": null,
      "outputs": [
        {
          "output_type": "stream",
          "name": "stdout",
          "text": [
            "¿Cuántas mujeres hay en el grupo?: 23\n",
            "¿Cuántos hombres hay en el grupo?: 34\n",
            "La suma entre 34.0 y 23.0  es = 57.0\n",
            "El porcentaje de mujeres es= 40.35 y el porcentaje de hombres es= 59.65total de estudiantes= 57.0\n"
          ]
        }
      ]
    },
    {
      "cell_type": "code",
      "source": [
        "cal1 = float(input(\"Cuál es la calificación 1: \"))\n",
        "cal2 = float(input(\"Cuál es la calificación 2: \"))\n",
        "cal3 = float(input(\"Cuál es la  calificación 3: \"))\n",
        "prom = round((cal1 + cal2 + cal3) / 3 , 2)\n",
        "print(f\"El promedio es = {prom}\")"
      ],
      "metadata": {
        "colab": {
          "base_uri": "https://localhost:8080/"
        },
        "id": "g0he1Py_6CWw",
        "outputId": "bbefa5f9-f0db-4cbf-e55a-35068c633330"
      },
      "execution_count": null,
      "outputs": [
        {
          "output_type": "stream",
          "name": "stdout",
          "text": [
            "Cuál es la calificación 1: 3.3\n",
            "Cuál es la calificación 2: 3.9\n",
            "Cuál es la  calificación 3: 4.1\n",
            "El promedio es = 3.77\n"
          ]
        }
      ]
    },
    {
      "cell_type": "code",
      "source": [],
      "metadata": {
        "id": "r8q8PyDv6Qmp"
      },
      "execution_count": null,
      "outputs": []
    }
  ]
}