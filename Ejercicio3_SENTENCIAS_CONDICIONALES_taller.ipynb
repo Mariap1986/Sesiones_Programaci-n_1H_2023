{
  "nbformat": 4,
  "nbformat_minor": 0,
  "metadata": {
    "colab": {
      "provenance": []
    },
    "kernelspec": {
      "name": "python3",
      "display_name": "Python 3"
    },
    "language_info": {
      "name": "python"
    }
  },
  "cells": [
    {
      "cell_type": "code",
      "execution_count": null,
      "metadata": {
        "id": "K6GrXl9iAqQV"
      },
      "outputs": [],
      "source": [
        "#datos tipo string \"\"\n",
        "# int (entero)\n",
        "#float (numeros decimales)\n",
        "# .0f para incluir puntos separadores de miles\n",
        "#Operadores relacionales \n",
        "#else: sino\n",
        "#If\n",
        "#<=\n",
        "#elif se usa para comparar\n",
        "espacio antes de print\n",
        "#else: incluir los dos puntos\n",
        "if condicion y luego :\n",
        "  "
      ]
    },
    {
      "cell_type": "markdown",
      "source": [
        "OPERADORES RELACIONALES"
      ],
      "metadata": {
        "id": "7sG-E-GlEaSE"
      }
    },
    {
      "cell_type": "markdown",
      "source": [
        ">mayor que, < menor que, >= mayor o igual que, <= menor o igual que, == igual que, != diferente que,ambos debe ser iguales and, uno de los debe ser verdadero or, in texto inmerso en otro\n"
      ],
      "metadata": {
        "id": "jm_wFWRhCyPR"
      }
    },
    {
      "cell_type": "markdown",
      "source": [
        "Si el empleado es mayor de 55 años disfrutará de un bono de prepensión correspondiente al 5% de su sueldo básico"
      ],
      "metadata": {
        "id": "RKA4g8ZkD-wM"
      }
    },
    {
      "cell_type": "code",
      "source": [
        "Edad = int(input(\"Digite su edad: \"))\n",
        "if Edad > 55 and Edad < 70:\n",
        "  print(\"Tienes derecho al bono de prepensión de 5 puntos\")\n",
        "else:\n",
        "  print(\"No Tienes derecho al bono de prepensión\") \n",
        "Sueldo = float(input(\"Digite su sueldo: \"))\n",
        "#Cálculo del bono\n",
        "Bono = Sueldo * 5 /100\n",
        "print(\"\\nEl Bono es = {}\".format(Bono))"
      ],
      "metadata": {
        "colab": {
          "base_uri": "https://localhost:8080/"
        },
        "id": "CzuSA2MhoYn2",
        "outputId": "f283797d-98f0-40e0-d084-576b66b376c9"
      },
      "execution_count": null,
      "outputs": [
        {
          "output_type": "stream",
          "name": "stdout",
          "text": [
            "Digite su edad: 56\n",
            "Tienes derecho al bono de prepensión de 5 puntos\n",
            "Digite su sueldo: 2000000\n",
            "\n",
            "El Bono es = 100000.0\n"
          ]
        }
      ]
    },
    {
      "cell_type": "markdown",
      "source": [
        "2. Si el empleado es casado y tiene hijos se le otorgará un paseo cada diciembre"
      ],
      "metadata": {
        "id": "goy_6RO7LOWP"
      }
    },
    {
      "cell_type": "code",
      "source": [
        "Estado_civil =input(\"usted es casado y tiene hijos?:\")\n",
        "if Estado_civil in \"si\":\n",
        "  print(\"Tiene derecho a un paseo cada diciembre\")\n",
        "else:\n",
        "  print(\"No Tiene derecho a un paseo cada diciembre\")\n"
      ],
      "metadata": {
        "colab": {
          "base_uri": "https://localhost:8080/"
        },
        "id": "zm24skc-LOGD",
        "outputId": "469456ac-99b7-42f3-a972-43f9c2cddfc3"
      },
      "execution_count": null,
      "outputs": [
        {
          "output_type": "stream",
          "name": "stdout",
          "text": [
            "usted es casado y tiene hijos?:no\n",
            "No Tiene derecho a un paseo cada diciembre\n"
          ]
        }
      ]
    },
    {
      "cell_type": "markdown",
      "source": [
        "3. Si el sueldo básico está entre 1000000 y 1500000 tendrá una comisión del 2% sobre el valor del sueldo; Si el sueldo básico está entre 1500001 y 2000000 tendrá una comisión del 5% sobre el valor del sueldo; para todos los demás casos no habrá comisión."
      ],
      "metadata": {
        "id": "GN0uf2reM3JT"
      }
    },
    {
      "cell_type": "code",
      "source": [
        "Sueldo_Basico = int(input(\"Digite su sueldo básico: \"))\n",
        "if Sueldo_Basico >= 1000000 and Sueldo_Basico <= 1500000:\n",
        "   print(\"Tiene derecho a una comisión de 2 puntos sobre el valor del sueldo\")\n",
        "elif Sueldo_Basico >= 1500001 and Sueldo_Basico <= 2000000:\n",
        "   print(\"Tiene derecho a una comisión de 5 puntos sobre el valor del sueldo\")\n",
        "elif Sueldo_Basico <= 999999 and Sueldo_Basico >= 2000001:\n",
        "    print(\"no cumple ninguna condicion\") \n",
        "    ##???"
      ],
      "metadata": {
        "colab": {
          "base_uri": "https://localhost:8080/"
        },
        "id": "9P_hb_4fcFQs",
        "outputId": "6bd78495-9c7c-47a1-a217-acddde8224ed"
      },
      "execution_count": null,
      "outputs": [
        {
          "output_type": "stream",
          "name": "stdout",
          "text": [
            "Digite su sueldo básico: 1800000\n",
            "Tiene derecho a una comisión de 5 puntos sobre el valor del sueldo\n"
          ]
        }
      ]
    },
    {
      "cell_type": "markdown",
      "source": [
        "4. Si el empleado trabajó más de 20 días al mes y su sueldo es menor a 1000000 tendrá derecho a un bono de alimentación."
      ],
      "metadata": {
        "id": "Ig-DAFRDJzPw"
      }
    },
    {
      "cell_type": "code",
      "source": [
        "Días_trabajados = int(input(\"Digite los días trabajados:\"))\n",
        "Base = int(input(\"Digite su sueldo:\"))\n",
        "if Días_trabajados > 20 and Base < 1000000:\n",
        "  print(\"Tiene derecho a un bono de alimentación\") \n",
        "else:\n",
        " print(\"No tiene derecho a un bono de alimentación\")"
      ],
      "metadata": {
        "colab": {
          "base_uri": "https://localhost:8080/"
        },
        "id": "swZkQJswfUO0",
        "outputId": "16274cf8-37dd-4450-8ff0-37a4ec55834d"
      },
      "execution_count": null,
      "outputs": [
        {
          "output_type": "stream",
          "name": "stdout",
          "text": [
            "Digite los días trabajados:22\n",
            "Digite su sueldo:1200000\n",
            "No tiene derecho a un bono de alimentación\n"
          ]
        }
      ]
    }
  ]
}