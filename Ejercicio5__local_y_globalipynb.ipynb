{
  "nbformat": 4,
  "nbformat_minor": 0,
  "metadata": {
    "colab": {
      "provenance": []
    },
    "kernelspec": {
      "name": "python3",
      "display_name": "Python 3"
    },
    "language_info": {
      "name": "python"
    }
  },
  "cells": [
    {
      "cell_type": "code",
      "execution_count": null,
      "metadata": {
        "colab": {
          "base_uri": "https://localhost:8080/"
        },
        "id": "qagFhQwjX28x",
        "outputId": "7bcb4808-fcb1-4001-f126-0f7eba665eeb"
      },
      "outputs": [
        {
          "name": "stdout",
          "output_type": "stream",
          "text": [
            "Digite su sueldo: 4500000\n",
            "Estas dentro de estrato medio en Colombia\n",
            "¿Desea ingresar otro sueldo?3000000\n"
          ]
        }
      ],
      "source": [
        "def validarsueldo(sueld):\n",
        "  if sueld >= 4000000:\n",
        "    print(\"Estas dentro de estrato medio en Colombia\")\n",
        "  else:\n",
        "    print(\"No estas dentro de estrato medio en Colombia\")\n",
        "\n",
        "resp = \"si\"\n",
        "while resp == \"si\":\n",
        "  sueld = int(input(\"Digite su sueldo: \"))\n",
        "  validarsueldo(sueld)\n",
        "  resp = input(\"¿Desea ingresar otro sueldo?\")"
      ]
    }
  ]
}